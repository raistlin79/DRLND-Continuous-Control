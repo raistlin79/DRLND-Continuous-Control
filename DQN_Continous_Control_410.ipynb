{
 "cells": [
  {
   "cell_type": "markdown",
   "metadata": {},
   "source": [
    "# Continuous Control\n",
    "\n",
    "---\n",
    "\n",
    "In this notebook, you will learn how to use the Unity ML-Agents environment for the second project of the [Deep Reinforcement Learning Nanodegree](https://www.udacity.com/course/deep-reinforcement-learning-nanodegree--nd893) program.\n",
    "\n",
    "### 1. Start the Environment\n",
    "\n",
    "We begin by importing the necessary packages.  If the code cell below returns an error, please revisit the project instructions to double-check that you have installed [Unity ML-Agents](https://github.com/Unity-Technologies/ml-agents/blob/master/docs/Installation.md) and [NumPy](http://www.numpy.org/)."
   ]
  },
  {
   "cell_type": "code",
   "execution_count": 1,
   "metadata": {},
   "outputs": [
    {
     "name": "stdout",
     "output_type": "stream",
     "text": [
      "Device:  cuda:0\n"
     ]
    }
   ],
   "source": [
    "from unityagents import UnityEnvironment\n",
    "import random\n",
    "import torch\n",
    "import numpy as np\n",
    "\n",
    "from collections import deque\n",
    "import matplotlib.pyplot as plt\n",
    "%matplotlib inline\n",
    "\n",
    "from itertools import count\n",
    "\n",
    "device = torch.device(\"cuda:0\" if torch.cuda.is_available() else \"cpu\")\n",
    "print(\"Device: \", device)"
   ]
  },
  {
   "cell_type": "markdown",
   "metadata": {},
   "source": [
    "Next, we will start the environment!  **_Before running the code cell below_**, change the `file_name` parameter to match the location of the Unity environment that you downloaded.\n",
    "\n",
    "- **Mac**: `\"path/to/Reacher.app\"`\n",
    "- **Windows** (x86): `\"path/to/Reacher_Windows_x86/Reacher.exe\"`\n",
    "- **Windows** (x86_64): `\"path/to/Reacher_Windows_x86_64/Reacher.exe\"`\n",
    "- **Linux** (x86): `\"path/to/Reacher_Linux/Reacher.x86\"`\n",
    "- **Linux** (x86_64): `\"path/to/Reacher_Linux/Reacher.x86_64\"`\n",
    "- **Linux** (x86, headless): `\"path/to/Reacher_Linux_NoVis/Reacher.x86\"`\n",
    "- **Linux** (x86_64, headless): `\"path/to/Reacher_Linux_NoVis/Reacher.x86_64\"`"
   ]
  },
  {
   "cell_type": "code",
   "execution_count": 2,
   "metadata": {},
   "outputs": [
    {
     "name": "stderr",
     "output_type": "stream",
     "text": [
      "INFO:unityagents:\n",
      "'Academy' started successfully!\n",
      "Unity Academy name: Academy\n",
      "        Number of Brains: 1\n",
      "        Number of External Brains : 1\n",
      "        Lesson number : 0\n",
      "        Reset Parameters :\n",
      "\t\tgoal_speed -> 1.0\n",
      "\t\tgoal_size -> 5.0\n",
      "Unity brain name: ReacherBrain\n",
      "        Number of Visual Observations (per agent): 0\n",
      "        Vector Observation space type: continuous\n",
      "        Vector Observation space size (per agent): 33\n",
      "        Number of stacked Vector Observation: 1\n",
      "        Vector Action space type: continuous\n",
      "        Vector Action space size (per agent): 4\n",
      "        Vector Action descriptions: , , , \n"
     ]
    }
   ],
   "source": [
    "env = UnityEnvironment(file_name='Reacher_Windows_x86_64/Reacher.exe')"
   ]
  },
  {
   "cell_type": "markdown",
   "metadata": {},
   "source": [
    "Environments contain **_brains_** which are responsible for deciding the actions of their associated agents. Here we check for the first brain available, and set it as the default brain we will be controlling from Python."
   ]
  },
  {
   "cell_type": "code",
   "execution_count": 3,
   "metadata": {},
   "outputs": [],
   "source": [
    "# Environments contain brains which are responsible for deciding the actions \n",
    "# of their associated agents. Here we check for the first brain available, \n",
    "# and set it as the default brain we will be controlling from Python\n",
    "\n",
    "# get the default brain\n",
    "brain_name = env.brain_names[0]\n",
    "brain = env.brains[brain_name]"
   ]
  },
  {
   "cell_type": "markdown",
   "metadata": {},
   "source": [
    "### 2. Examine the State and Action Spaces\n",
    "\n",
    "In this environment, a double-jointed arm can move to target locations. A reward of `+0.1` is provided for each step that the agent's hand is in the goal location. Thus, the goal of your agent is to maintain its position at the target location for as many time steps as possible.\n",
    "\n",
    "The observation space consists of `33` variables corresponding to position, rotation, velocity, and angular velocities of the arm.  Each action is a vector with four numbers, corresponding to torque applicable to two joints.  Every entry in the action vector must be a number between `-1` and `1`.\n",
    "\n",
    "Run the code cell below to print some information about the environment."
   ]
  },
  {
   "cell_type": "code",
   "execution_count": 4,
   "metadata": {},
   "outputs": [
    {
     "name": "stdout",
     "output_type": "stream",
     "text": [
      "Number of agents: 1\n",
      "Size of each action: 4\n",
      "There are 1 agents. Each observes a state with length: 33\n",
      "The state for the first agent looks like: [ 0.00000000e+00 -4.00000000e+00  0.00000000e+00  1.00000000e+00\n",
      " -0.00000000e+00 -0.00000000e+00 -4.37113883e-08  0.00000000e+00\n",
      "  0.00000000e+00  0.00000000e+00  0.00000000e+00  0.00000000e+00\n",
      "  0.00000000e+00  0.00000000e+00 -1.00000000e+01  0.00000000e+00\n",
      "  1.00000000e+00 -0.00000000e+00 -0.00000000e+00 -4.37113883e-08\n",
      "  0.00000000e+00  0.00000000e+00  0.00000000e+00  0.00000000e+00\n",
      "  0.00000000e+00  0.00000000e+00  5.75471878e+00 -1.00000000e+00\n",
      "  5.55726671e+00  0.00000000e+00  1.00000000e+00  0.00000000e+00\n",
      " -1.68164849e-01]\n"
     ]
    }
   ],
   "source": [
    "# reset the environment\n",
    "env_info = env.reset(train_mode=True)[brain_name]\n",
    "\n",
    "# number of agents\n",
    "num_agents = len(env_info.agents)\n",
    "print('Number of agents:', num_agents)\n",
    "\n",
    "# size of each action\n",
    "action_size = brain.vector_action_space_size\n",
    "print('Size of each action:', action_size)\n",
    "\n",
    "# examine the state space \n",
    "states = env_info.vector_observations\n",
    "state_size = states.shape[1]\n",
    "print('There are {} agents. Each observes a state with length: {}'.format(states.shape[0], state_size))\n",
    "print('The state for the first agent looks like:', states[0])"
   ]
  },
  {
   "cell_type": "code",
   "execution_count": 5,
   "metadata": {},
   "outputs": [],
   "source": [
    "#initialize Agent\n",
    "from ddpg_agent import Agent\n",
    "agent = Agent(state_size=state_size, action_size=action_size, random_seed=2)"
   ]
  },
  {
   "cell_type": "markdown",
   "metadata": {},
   "source": [
    "4. DDPG"
   ]
  },
  {
   "cell_type": "code",
   "execution_count": 6,
   "metadata": {},
   "outputs": [
    {
     "name": "stdout",
     "output_type": "stream",
     "text": [
      "Episode 10, Average Score: 0.81, Max: 0.73, Min: 0.73\n",
      "Episode 20, Average Score: 1.02, Max: 1.05, Min: 1.05\n",
      "Episode 30, Average Score: 0.92, Max: 0.35, Min: 0.35\n",
      "Episode 40, Average Score: 0.89, Max: 0.68, Min: 0.68\n",
      "Episode 50, Average Score: 0.90, Max: 0.66, Min: 0.66\n",
      "Episode 60, Average Score: 0.89, Max: 0.09, Min: 0.09\n",
      "Episode 70, Average Score: 0.91, Max: 0.64, Min: 0.64\n",
      "Episode 80, Average Score: 0.94, Max: 0.04, Min: 0.04\n",
      "Episode 90, Average Score: 0.95, Max: 1.15, Min: 1.15\n",
      "Episode 100, Average Score: 0.97, Max: 1.34, Min: 1.34\n",
      "Episode 110, Average Score: 1.02, Max: 2.48, Min: 2.48\n",
      "Episode 120, Average Score: 1.05, Max: 1.09, Min: 1.09\n",
      "Episode 130, Average Score: 1.12, Max: 0.78, Min: 0.78\n",
      "Episode 140, Average Score: 1.16, Max: 1.95, Min: 1.95\n",
      "Episode 150, Average Score: 1.24, Max: 0.94, Min: 0.94\n",
      "Episode 160, Average Score: 1.34, Max: 1.24, Min: 1.24\n",
      "Episode 170, Average Score: 1.46, Max: 3.48, Min: 3.48\n",
      "Episode 180, Average Score: 1.59, Max: 2.10, Min: 2.10\n",
      "Episode 190, Average Score: 1.88, Max: 4.12, Min: 4.12\n",
      "Episode 200, Average Score: 2.30, Max: 5.20, Min: 5.20\n",
      "Episode 210, Average Score: 2.64, Max: 2.53, Min: 2.53\n",
      "Episode 220, Average Score: 2.99, Max: 5.42, Min: 5.42\n",
      "Episode 230, Average Score: 3.59, Max: 6.97, Min: 6.97\n",
      "Episode 240, Average Score: 4.48, Max: 8.01, Min: 8.01\n",
      "Episode 250, Average Score: 5.53, Max: 11.52, Min: 11.52\n",
      "Episode 260, Average Score: 7.07, Max: 14.06, Min: 14.06\n",
      "Episode 270, Average Score: 8.60, Max: 12.81, Min: 12.81\n",
      "Episode 280, Average Score: 9.93, Max: 13.12, Min: 13.12\n",
      "Episode 290, Average Score: 11.52, Max: 9.70, Min: 9.70\n",
      "Episode 300, Average Score: 12.92, Max: 20.44, Min: 20.44\n",
      "Episode 310, Average Score: 14.89, Max: 31.62, Min: 31.62\n",
      "Episode 320, Average Score: 16.88, Max: 21.62, Min: 21.62\n",
      "Episode 330, Average Score: 18.66, Max: 29.69, Min: 29.69\n",
      "Episode 340, Average Score: 20.08, Max: 28.74, Min: 28.74\n",
      "Episode 350, Average Score: 21.65, Max: 27.02, Min: 27.02\n",
      "Episode 360, Average Score: 22.76, Max: 25.67, Min: 25.67\n",
      "Episode 370, Average Score: 23.97, Max: 30.54, Min: 30.54\n",
      "Episode 380, Average Score: 25.65, Max: 35.54, Min: 35.54\n",
      "Episode 390, Average Score: 27.08, Max: 38.55, Min: 38.55\n",
      "Episode 400, Average Score: 28.63, Max: 34.46, Min: 34.46\n",
      "Episode 410, Average Score: 29.92, Max: 37.47, Min: 37.47\n",
      "Episode 420, Average Score: 31.29, Max: 39.38, Min: 39.38\n",
      "Episode 430, Average Score: 32.63, Max: 38.52, Min: 38.52\n",
      "Episode 440, Average Score: 34.07, Max: 38.44, Min: 38.44\n",
      "Episode 450, Average Score: 35.22, Max: 39.27, Min: 39.27\n",
      "Episode 460, Average Score: 36.31, Max: 38.66, Min: 38.66\n",
      "Episode 470, Average Score: 37.23, Max: 39.53, Min: 39.53\n",
      "Episode 480, Average Score: 37.89, Max: 36.29, Min: 36.29\n",
      "Episode 490, Average Score: 38.40, Max: 39.31, Min: 39.31\n",
      "Episode 500, Average Score: 38.86, Max: 38.98, Min: 38.98\n",
      "Episode 510, Average Score: 39.07, Max: 39.58, Min: 39.58\n",
      "\n",
      "Environment solved in 410 episodes!\tAverage Score: 39.07\n"
     ]
    },
    {
     "data": {
      "image/png": "[encoded data removed]",
      "text/plain": [
       "<Figure size 432x288 with 1 Axes>"
      ]
     },
     "metadata": {
      "needs_background": "light"
     },
     "output_type": "display_data"
    }
   ],
   "source": [
    "def ddpg(n_episodes=2000, max_t=2000):\n",
    "    success = 0\n",
    "    scores_deque = deque(maxlen=100)\n",
    "    average_scores = []                                        # average of the score of the 20 agents for each episode\n",
    "        \n",
    "    for i_episode in range(1, n_episodes+1):\n",
    "        env_info = env.reset(train_mode=True)[brain_name]      # reset the environment    \n",
    "        states = env_info.vector_observations                  # get the current state\n",
    "        scores = np.zeros(num_agents)                          # initialize the score\n",
    "        agent.reset()\n",
    "        \n",
    "        for t in range(max_t):\n",
    "            actions = agent.act(states)\n",
    "            env_info = env.step(actions)[brain_name]           # send all actions to environment\n",
    "            next_states = env_info.vector_observations         # get next state\n",
    "            rewards = env_info.rewards                         # get reward\n",
    "            dones = env_info.local_done                        # see if episode finished\n",
    "            agent.step(states, actions, rewards, next_states, dones, t)\n",
    "            states = next_states                               # roll over states to next time step\n",
    "            scores += rewards                                  # update the score          \n",
    "            if np.any(dones):                                  # exit loop if episode finished\n",
    "                break\n",
    "        \n",
    "        score = np.mean(scores)\n",
    "        scores_deque.append(score)\n",
    "        average_scores.append(score)      \n",
    "        \n",
    "        # Every 10 episodes provide status\n",
    "        if i_episode % 10 == 0:\n",
    "            print('\\rEpisode {}, Average Score: {:.2f}, Max: {:.2f}, Min: {:.2f}'\\\n",
    "                .format(i_episode, np.mean(scores_deque), np.max(scores), np.min(scores)), end=\"\\n\")  \n",
    "            \n",
    "        if np.mean(scores_deque) >= 30.0:\n",
    "            # Set 1 if average is above 30\n",
    "            success += 1\n",
    "        else:\n",
    "            # If average is below or drops below 30 reset success parameter\n",
    "            success = 0\n",
    "        \n",
    "        # Finished after 100 consecutive episodes with an average above 30\n",
    "        if success >= 100:\n",
    "            torch.save(agent.actor_local.state_dict(), 'ddpg_network_actor_weight.pth')\n",
    "            torch.save(agent.critic_local.state_dict(), 'ddpg_network_critic_weight.pth')\n",
    "            print('\\nEnvironment solved in {:d} episodes!\\tAverage Score: {:.2f}'.format(i_episode-100, np.mean(scores_deque)))            \n",
    "            break            \n",
    "            \n",
    "    return average_scores\n",
    "\n",
    "\n",
    "scores = ddpg()\n",
    "\n",
    "# Plot result\n",
    "fig = plt.figure()\n",
    "ax = fig.add_subplot(111)\n",
    "plt.plot(np.arange(1, len(scores)+1), scores)\n",
    "plt.ylabel('Score')\n",
    "plt.xlabel('Episode #')\n",
    "plt.show()"
   ]
  },
  {
   "cell_type": "code",
   "execution_count": null,
   "metadata": {},
   "outputs": [],
   "source": []
  }
 ],
 "metadata": {
  "kernelspec": {
   "display_name": "drlnd",
   "language": "python",
   "name": "drlnd"
  },
  "language_info": {
   "codemirror_mode": {
    "name": "ipython",
    "version": 3
   },
   "file_extension": ".py",
   "mimetype": "text/x-python",
   "name": "python",
   "nbconvert_exporter": "python",
   "pygments_lexer": "ipython3",
   "version": "3.6.7"
  }
 },
 "nbformat": 4,
 "nbformat_minor": 2
}
